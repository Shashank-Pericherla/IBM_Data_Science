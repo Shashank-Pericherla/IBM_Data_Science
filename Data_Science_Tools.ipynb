{
 "cells": [
  {
   "cell_type": "markdown",
   "id": "9f75134b",
   "metadata": {},
   "source": [
    "# **Data Science Tools and Ecosystem**"
   ]
  },
  {
   "cell_type": "markdown",
   "id": "2d2c6c50",
   "metadata": {},
   "source": [
    "**Introduction:**\n",
    "\n",
    "Hello, I'm Geetha Shashank Pericherla.My journey into the world of data science began with a curiosity to solve real-world problems using data-driven approaches.I'm proficient in programming languages like Python, R, SQL, and I'm enthusiastic about staying up-to-date with the latest advancements in data science and machine learning.\n",
    "\n",
    "Data science is the study of data to extract meaningful insights for business. It is a multidisciplinary approach that combines principles and practices from the fields of mathematics, statistics, artificial intelligence, and computer engineering to analyze large amounts of data."
   ]
  },
  {
   "cell_type": "markdown",
   "id": "7380c181",
   "metadata": {},
   "source": [
    "__Objectives__\n",
    "\n",
    "* List data science languages\n",
    "* List data science libraries\n",
    "* List of well known Data Science tools\n",
    "* How to write a comment"
   ]
  },
  {
   "cell_type": "markdown",
   "id": "a48c24a1",
   "metadata": {},
   "source": [
    "Languages commonly used in Data Science:\n",
    "1.   Python\n",
    "2.   R\n",
    "3.   SQL \n",
    "4.   JAVA etc."
   ]
  },
  {
   "cell_type": "markdown",
   "id": "baac9c3b",
   "metadata": {},
   "source": [
    "Some of the commonly used Libraries for Data Science:\n",
    "\n",
    "1.   Numpy\n",
    "2.   Pandas\n",
    "3.   Matplotlib\n",
    "4.   Seaborn\n",
    "5.   Scipy\n",
    "6.   Scikit-learn\n",
    "7.   Tensorflow\n",
    "8.   Pytorch etc."
   ]
  },
  {
   "cell_type": "markdown",
   "id": "e1629c40",
   "metadata": {},
   "source": [
    "|Data Science Tools|\n",
    "|---|\n",
    "|SAS|\n",
    "|Apache Hadoop|\n",
    "|IBM Watson Studio|\n",
    "|Tensorflow|\n",
    "|Scikit-learn|"
   ]
  },
  {
   "cell_type": "markdown",
   "id": "0fd66f80",
   "metadata": {},
   "source": [
    "### **Given below are few examples of evaluating simple arithmetic operations in python**"
   ]
  },
  {
   "cell_type": "code",
   "execution_count": 20,
   "id": "38acc8db",
   "metadata": {},
   "outputs": [
    {
     "data": {
      "text/plain": [
       "63"
      ]
     },
     "execution_count": 20,
     "metadata": {},
     "output_type": "execute_result"
    }
   ],
   "source": [
    "# Code Cell to multiply numbers\n",
    "\n",
    "9*7"
   ]
  },
  {
   "cell_type": "code",
   "execution_count": 21,
   "id": "6f389df5",
   "metadata": {},
   "outputs": [
    {
     "data": {
      "text/plain": [
       "10"
      ]
     },
     "execution_count": 21,
     "metadata": {},
     "output_type": "execute_result"
    }
   ],
   "source": [
    "# Code cell to add numbers\n",
    "\n",
    "4+6"
   ]
  },
  {
   "cell_type": "code",
   "execution_count": 22,
   "id": "2420396b",
   "metadata": {},
   "outputs": [
    {
     "data": {
      "text/plain": [
       "16"
      ]
     },
     "execution_count": 22,
     "metadata": {},
     "output_type": "execute_result"
    }
   ],
   "source": [
    "# Code cell to multiply and add numbers in the same expression\n",
    "\n",
    "(4*2)+8"
   ]
  },
  {
   "cell_type": "code",
   "execution_count": 23,
   "id": "ae77716f",
   "metadata": {},
   "outputs": [
    {
     "name": "stdout",
     "output_type": "stream",
     "text": [
      "Enter the time duration in minutes: 120\n",
      "Time duration in hours = 2.0 Hrs\n"
     ]
    }
   ],
   "source": [
    "# Code to convert minutes into hours\n",
    "\n",
    "time = int(input(\"Enter the time duration in minutes: \"))\n",
    "print(\"Time duration in hours =\",time/60,\"Hrs\")"
   ]
  },
  {
   "cell_type": "markdown",
   "id": "e273a6e1",
   "metadata": {},
   "source": [
    "## Author:\n",
    "\n",
    "Geetha Shashank Pericherla"
   ]
  }
 ],
 "metadata": {
  "kernelspec": {
   "display_name": "Python 3 (ipykernel)",
   "language": "python",
   "name": "python3"
  },
  "language_info": {
   "codemirror_mode": {
    "name": "ipython",
    "version": 3
   },
   "file_extension": ".py",
   "mimetype": "text/x-python",
   "name": "python",
   "nbconvert_exporter": "python",
   "pygments_lexer": "ipython3",
   "version": "3.9.7"
  }
 },
 "nbformat": 4,
 "nbformat_minor": 5
}
